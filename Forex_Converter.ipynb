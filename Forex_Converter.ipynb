{
  "nbformat": 4,
  "nbformat_minor": 0,
  "metadata": {
    "colab": {
      "name": "Forex_Converter",
      "provenance": [],
      "authorship_tag": "ABX9TyPIh3LpwDPptJ5JoIJu3HKd",
      "include_colab_link": true
    },
    "kernelspec": {
      "name": "python3",
      "display_name": "Python 3"
    }
  },
  "cells": [
    {
      "cell_type": "markdown",
      "metadata": {
        "id": "view-in-github",
        "colab_type": "text"
      },
      "source": [
        "<a href=\"https://colab.research.google.com/github/nayeemkhan2192/Real-Time_Forex_Currency_Converter/blob/main/Forex_Converter.ipynb\" target=\"_parent\"><img src=\"https://colab.research.google.com/assets/colab-badge.svg\" alt=\"Open In Colab\"/></a>"
      ]
    },
    {
      "cell_type": "code",
      "metadata": {
        "id": "pWckbPo134Mv",
        "colab": {
          "base_uri": "https://localhost:8080/"
        },
        "outputId": "76546853-47d3-4870-aa4b-aa6e20e08d74"
      },
      "source": [
        "print(\"Hello World\")"
      ],
      "execution_count": null,
      "outputs": [
        {
          "output_type": "stream",
          "text": [
            "Hello World\n"
          ],
          "name": "stdout"
        }
      ]
    },
    {
      "cell_type": "code",
      "metadata": {
        "id": "hcKU1jJoZEu8",
        "colab": {
          "base_uri": "https://localhost:8080/"
        },
        "outputId": "b50eed96-b9aa-4a0a-c616-3b983a4bccb1"
      },
      "source": [
        "print ('hello')\r\n"
      ],
      "execution_count": null,
      "outputs": [
        {
          "output_type": "stream",
          "text": [
            "hello\n"
          ],
          "name": "stdout"
        }
      ]
    },
    {
      "cell_type": "code",
      "metadata": {
        "id": "njG4LDOMKu21"
      },
      "source": [
        ""
      ],
      "execution_count": null,
      "outputs": []
    },
    {
      "cell_type": "code",
      "metadata": {
        "colab": {
          "base_uri": "https://localhost:8080/"
        },
        "id": "rWctTgCmKiDe",
        "outputId": "34760bb2-4d35-43e1-f75b-e2cdcc594707"
      },
      "source": [
        "pip install forex-python\r\n"
      ],
      "execution_count": null,
      "outputs": [
        {
          "output_type": "stream",
          "text": [
            "Collecting forex-python\n",
            "  Downloading https://files.pythonhosted.org/packages/1a/ff/f3f6da21e8fdc6ece355643871749c79a3191fed1cba088cbd0dc597dfee/forex-python-1.5.tar.gz\n",
            "Requirement already satisfied: requests in /usr/local/lib/python3.6/dist-packages (from forex-python) (2.23.0)\n",
            "Collecting simplejson\n",
            "\u001b[?25l  Downloading https://files.pythonhosted.org/packages/73/96/1e6b19045375890068d7342cbe280dd64ae73fd90b9735b5efb8d1e044a1/simplejson-3.17.2-cp36-cp36m-manylinux2010_x86_64.whl (127kB)\n",
            "\u001b[K     |████████████████████████████████| 133kB 9.0MB/s \n",
            "\u001b[?25hRequirement already satisfied: idna<3,>=2.5 in /usr/local/lib/python3.6/dist-packages (from requests->forex-python) (2.10)\n",
            "Requirement already satisfied: chardet<4,>=3.0.2 in /usr/local/lib/python3.6/dist-packages (from requests->forex-python) (3.0.4)\n",
            "Requirement already satisfied: certifi>=2017.4.17 in /usr/local/lib/python3.6/dist-packages (from requests->forex-python) (2020.12.5)\n",
            "Requirement already satisfied: urllib3!=1.25.0,!=1.25.1,<1.26,>=1.21.1 in /usr/local/lib/python3.6/dist-packages (from requests->forex-python) (1.24.3)\n",
            "Building wheels for collected packages: forex-python\n",
            "  Building wheel for forex-python (setup.py) ... \u001b[?25l\u001b[?25hdone\n",
            "  Created wheel for forex-python: filename=forex_python-1.5-cp36-none-any.whl size=7236 sha256=e1c2f214afa5180c58c8a0fb7fe0a2aeb13f0773c81be85ed7d5999672985605\n",
            "  Stored in directory: /root/.cache/pip/wheels/c9/ee/ce/a0c208e72d186b786b0c51914675bc03d1bf00b8ed9406271b\n",
            "Successfully built forex-python\n",
            "Installing collected packages: simplejson, forex-python\n",
            "Successfully installed forex-python-1.5 simplejson-3.17.2\n"
          ],
          "name": "stdout"
        }
      ]
    },
    {
      "cell_type": "code",
      "metadata": {
        "colab": {
          "base_uri": "https://localhost:8080/"
        },
        "id": "xKn6TU_2KwC8",
        "cellView": "code",
        "outputId": "62fae686-1409-4b7a-c68a-a7ed41245fcc"
      },
      "source": [
        "\n",
        "from forex_python.converter import CurrencyRates\n",
        "c = CurrencyRates()\n",
        "amount = int(input(\"Enter the amount: \"))\n",
        "from_currency = input(\"From Currency: \").upper()\n",
        "to_currency = input(\"To Currency: \").upper()\n",
        "print(from_currency, \" To \", to_currency, amount)\n",
        "result = c.convert(from_currency, to_currency, amount)\n",
        "print(result)"
      ],
      "execution_count": null,
      "outputs": [
        {
          "output_type": "stream",
          "text": [
            "Enter the amount: 1\n",
            "From Currency: usd\n",
            "To Currency: sek\n",
            "USD  To  SEK 1\n",
            "8.3265609514\n"
          ],
          "name": "stdout"
        }
      ]
    },
    {
      "cell_type": "code",
      "metadata": {
        "colab": {
          "base_uri": "https://localhost:8080/"
        },
        "id": "NQ7bW3Q7U2OL",
        "outputId": "76f4f074-f184-4299-fc45-075cf2ebf226"
      },
      "source": [
        "! git clone https://github.com/nayeemkhan2192/Real-Time_Forex_Currency_Converter.git"
      ],
      "execution_count": 8,
      "outputs": [
        {
          "output_type": "stream",
          "text": [
            "fatal: destination path 'Real-Time_Forex_Currency_Converter' already exists and is not an empty directory.\n"
          ],
          "name": "stdout"
        }
      ]
    },
    {
      "cell_type": "code",
      "metadata": {
        "colab": {
          "base_uri": "https://localhost:8080/"
        },
        "id": "GESZMxE4Vbbu",
        "outputId": "743af8f3-4a0f-47d0-eefb-43ba0c6664ec"
      },
      "source": [
        "from forex_python.converter import CurrencyRates\r\n",
        "c = CurrencyRates()\r\n",
        "amount = int(input(\"Enter the amount: \"))\r\n",
        "from_currency = input(\"From Currency: \").upper()\r\n",
        "to_currency = input(\"To Currency: \").upper()\r\n",
        "print(from_currency, \" To \", to_currency, amount)\r\n",
        "result = c.convert(from_currency, to_currency, amount)\r\n",
        "print(result)"
      ],
      "execution_count": 9,
      "outputs": [
        {
          "output_type": "stream",
          "text": [
            "Enter the amount: 100\n",
            "From Currency: eur\n",
            "To Currency: sek\n",
            "EUR  To  SEK 100\n",
            "1008.18\n"
          ],
          "name": "stdout"
        }
      ]
    }
  ]
}